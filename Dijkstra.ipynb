{
 "cells": [
  {
   "cell_type": "markdown",
   "metadata": {},
   "source": [
    "https://www.youtube.com/watch?v=f7xEGl8FlgA"
   ]
  },
  {
   "cell_type": "code",
   "execution_count": 19,
   "metadata": {},
   "outputs": [],
   "source": [
    "# def graph_setup():    \n",
    "#     graph = {}\n",
    "#     graph['A'] = {}\n",
    "#     graph['A']['B'] = 1\n",
    "#     graph['A']['C'] = 3\n",
    "    \n",
    "#     graph['B'] = {}\n",
    "#     graph['B']['D'] = 5\n",
    "#     graph['B']['C'] =  1  \n",
    "    \n",
    "#     graph['C'] = {}\n",
    "#     graph['C']['D'] = 3\n",
    "    \n",
    "#     graph['D'] = {}\n",
    "\n",
    "#     return graph"
   ]
  },
  {
   "cell_type": "code",
   "execution_count": 21,
   "metadata": {},
   "outputs": [],
   "source": [
    "# inf = float('inf')\n",
    "# start = 'A'\n",
    "# stop = 'D'\n",
    "# graph = graph_setup()\n",
    "# costs = {}\n",
    "# parents = {}\n",
    "\n",
    "# for node in graph:\n",
    "#     costs[node] = inf\n",
    "#     parents[node] = {}\n",
    "    \n",
    "# costs[start] = 0\n",
    "# # print(costs)\n",
    "# # print(parents)"
   ]
  },
  {
   "cell_type": "code",
   "execution_count": 22,
   "metadata": {},
   "outputs": [],
   "source": [
    "# def find_cheapst_node(costs, not_checked):\n",
    "#     cheapest_node = None\n",
    "#     lowest_cost = inf\n",
    "    \n",
    "#     for i,node in enumerate(not_checked):\n",
    "#         if costs[node] <= lowest_cost:\n",
    "#             lowest_cost = costs[node]\n",
    "#             cheapest_node = i\n",
    "            \n",
    "#     return (cheapest_node, not_checked[cheapest_node])"
   ]
  },
  {
   "cell_type": "code",
   "execution_count": 23,
   "metadata": {},
   "outputs": [],
   "source": [
    "# def dijkstra(graph):\n",
    "#     not_checked = [node for node in graph]\n",
    "\n",
    "#     while not_checked:\n",
    "#         node_idx, node = find_cheapst_node(costs, not_checked)\n",
    "#         #print(f\"Not Checked: {not_checked}\")\n",
    "#         cost = costs[node]\n",
    "#         child_cost = graph[node]\n",
    "\n",
    "#         for c in child_cost:\n",
    "#             if costs[c] > cost + child_cost[c]:\n",
    "#                 costs[c] = cost + child_cost[c]\n",
    "#                 parents[c] = node\n",
    "                \n",
    "#         not_checked.pop(node_idx)\n",
    "        \n",
    "        \n",
    "#     if costs[stop] < inf:\n",
    "#         path = [stop]\n",
    "#         while start not in path:\n",
    "#             # since we are appending new value into array 'path'\n",
    "#             # the new value resides in the last index location\n",
    "#             path.append(parents[path[-1]])\n",
    "            \n",
    "#         print(path[::-1])\n",
    "#     else:\n",
    "#         print(\"Cannot find a path.\")"
   ]
  },
  {
   "cell_type": "code",
   "execution_count": 24,
   "metadata": {},
   "outputs": [],
   "source": [
    "# dijkstra(graph)"
   ]
  },
  {
   "cell_type": "code",
   "execution_count": null,
   "metadata": {},
   "outputs": [],
   "source": []
  },
  {
   "cell_type": "code",
   "execution_count": null,
   "metadata": {},
   "outputs": [],
   "source": []
  },
  {
   "cell_type": "code",
   "execution_count": null,
   "metadata": {},
   "outputs": [],
   "source": []
  },
  {
   "cell_type": "markdown",
   "metadata": {},
   "source": [
    "### Example 2"
   ]
  },
  {
   "cell_type": "code",
   "execution_count": 59,
   "metadata": {},
   "outputs": [],
   "source": [
    "def graph_setup(inf):\n",
    "    graph = {}\n",
    "\n",
    "    graph['Noob'] = {}\n",
    "    graph['Noob']['B.S. CS'] = 4\n",
    "    graph['Noob']['Bootcamp'] = 1\n",
    "    graph['Noob']['Self Taught'] = 2\n",
    "\n",
    "    graph['B.S. CS'] = {}\n",
    "    graph['B.S. CS']['M.S. CS'] = 2\n",
    "    graph['B.S. CS']['Entry Level'] = 0.5\n",
    "\n",
    "    graph['M.S. CS'] = {}\n",
    "    graph['M.S. CS']['PhD'] = 3\n",
    "    graph['M.S. CS']['Mid Level'] = 1\n",
    "\n",
    "    graph['PhD'] = {}\n",
    "    graph['PhD']['Post Doc'] = 2\n",
    "    graph['PhD']['Mid Level'] = 0\n",
    "    graph['PhD']['Expert'] = 2\n",
    "\n",
    "    graph['Post Doc'] = {}\n",
    "    graph['Post Doc']['Academic'] = 20\n",
    "\n",
    "    graph['Academic'] = {}\n",
    "    graph['Academic']['God of Code'] = inf\n",
    "\n",
    "    graph['God of Code'] = {}\n",
    "\n",
    "    graph['Bootcamp'] = {}\n",
    "    graph['Bootcamp']['Entry Level'] = 0.5\n",
    "\n",
    "    graph['Entry Level'] = {}\n",
    "    graph['Entry Level']['Mid Level'] = 5\n",
    "\n",
    "    graph['Mid Level'] = {}\n",
    "    graph['Mid Level']['Expert'] = 5\n",
    "\n",
    "    graph['Expert'] = {}\n",
    "    graph['Expert']['God of Code'] = 5\n",
    "\n",
    "    graph['Self Taught'] = {}\n",
    "    graph['Self Taught']['Bootcamp'] = 0.5\n",
    "    graph['Self Taught']['Networking'] = 1\n",
    "    graph['Self Taught']['Entry Level'] = 2\n",
    "\n",
    "    graph['Networking'] = {}\n",
    "    graph['Networking']['Entry Level'] = 0.5\n",
    "\n",
    "    return graph"
   ]
  },
  {
   "cell_type": "code",
   "execution_count": 60,
   "metadata": {},
   "outputs": [],
   "source": [
    "# find the node with least cost from the not_checked array\n",
    "def find_least_cost(inf, costs, not_checked):\n",
    "    lowest_cost = inf\n",
    "    lowest_node_idx = None\n",
    "    \n",
    "    for i, node in enumerate(not_checked):\n",
    "        if lowest_cost > costs[node]:\n",
    "            lowest_cost = costs[node]\n",
    "            lowest_node_idx = i\n",
    "            \n",
    "    return (lowest_node_idx, not_checked[lowest_node_idx])"
   ]
  },
  {
   "cell_type": "code",
   "execution_count": 76,
   "metadata": {},
   "outputs": [],
   "source": [
    "def dijkstra_algorithm():\n",
    "    inf = float('inf')\n",
    "    graph = graph_setup(inf)\n",
    "    \n",
    "    start_node = 'Noob'\n",
    "    goal_node = 'God of Code'\n",
    "    \n",
    "    costs = {} # record the least cost from start node to curr node\n",
    "    paths = {} # record the path with the least cost\n",
    "    not_checked = []\n",
    "    \n",
    "    for node in graph:\n",
    "        not_checked.append(node)\n",
    "        costs[node] = inf\n",
    "        paths[node] = {}\n",
    "        \n",
    "    costs[start_node] = 0\n",
    "    \n",
    "    while not_checked:\n",
    "        i, curr_node = find_least_cost(inf, costs, not_checked)\n",
    "        curr_cost = costs[curr_node]   \n",
    "        child_costs = graph[curr_node]\n",
    "\n",
    "        for c in child_costs:\n",
    "            if costs[c] > curr_cost + graph[curr_node][c]:\n",
    "                costs[c] = curr_cost + graph[curr_node][c]\n",
    "                paths[c] = curr_node\n",
    "                \n",
    "        not_checked.pop(i)\n",
    "        \n",
    "    res = [goal_node]\n",
    "    while start_node not in res:\n",
    "        res.append(paths[res[-1]])\n",
    "        \n",
    "    return res[::-1]\n",
    "        \n",
    "    "
   ]
  },
  {
   "cell_type": "code",
   "execution_count": 77,
   "metadata": {},
   "outputs": [
    {
     "data": {
      "text/plain": [
       "['Noob', 'B.S. CS', 'M.S. CS', 'PhD', 'Expert', 'God of Code']"
      ]
     },
     "execution_count": 77,
     "metadata": {},
     "output_type": "execute_result"
    }
   ],
   "source": [
    "dijkstra_algorithm()"
   ]
  },
  {
   "cell_type": "code",
   "execution_count": null,
   "metadata": {},
   "outputs": [],
   "source": []
  }
 ],
 "metadata": {
  "kernelspec": {
   "display_name": "Python 3",
   "language": "python",
   "name": "python3"
  },
  "language_info": {
   "codemirror_mode": {
    "name": "ipython",
    "version": 3
   },
   "file_extension": ".py",
   "mimetype": "text/x-python",
   "name": "python",
   "nbconvert_exporter": "python",
   "pygments_lexer": "ipython3",
   "version": "3.7.0"
  }
 },
 "nbformat": 4,
 "nbformat_minor": 2
}
