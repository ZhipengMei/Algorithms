{
 "cells": [
  {
   "cell_type": "code",
   "execution_count": 125,
   "metadata": {},
   "outputs": [
    {
     "name": "stdout",
     "output_type": "stream",
     "text": [
      "['bad', 'dad', 'mad']\n",
      ". b\n",
      "a a\n",
      "t d\n",
      "breaking\n",
      ". d\n",
      "a a\n",
      "t d\n",
      "breaking\n",
      ". m\n",
      "a a\n",
      "t d\n",
      "breaking\n",
      "False\n"
     ]
    }
   ],
   "source": [
    "class WordDictionary:\n",
    "\n",
    "    def __init__(self):\n",
    "        \"\"\"\n",
    "        Initialize your data structure here.\n",
    "        \"\"\"\n",
    "        self.data = []\n",
    "        \n",
    "        \n",
    "\n",
    "    def addWord(self, word):\n",
    "        \"\"\"\n",
    "        Adds a word into the data structure.\n",
    "        :type word: str\n",
    "        :rtype: void\n",
    "        \"\"\"\n",
    "        self.data.append(word)\n",
    "        \n",
    "\n",
    "    def search(self, word):\n",
    "        \"\"\"\n",
    "        Returns if the word is in the data structure. A word could contain the dot character '.' to represent any one letter.\n",
    "        :type word: str\n",
    "        :rtype: bool\n",
    "        \"\"\"\n",
    "        for i,v in enumerate(self.data):\n",
    "            if word == v:\n",
    "                return True\n",
    "            if \".\" in word and len(word) == len(v):\n",
    "                for j,e in enumerate(word):\n",
    "                    print(e,v[j])\n",
    "                    if e == \".\" or e == v[j]:\n",
    "                        if j+1 == len(word):\n",
    "                            return True\n",
    "                        continue\n",
    "                    elif e != v[j]:\n",
    "                        break  \n",
    "        return False\n",
    "                        \n",
    "                \n",
    "        \n",
    "\n",
    "\n",
    "# Your WordDictionary object will be instantiated and called as such:\n",
    "obj = WordDictionary()\n",
    "obj.addWord(\"bad\")\n",
    "obj.addWord(\"dad\")\n",
    "obj.addWord(\"mad\")\n",
    "print(obj.data)\n",
    "# param_2 = obj.search(\"pad\")\n",
    "# param_2 = obj.search(\"bad\")\n",
    "param_2 = obj.search(\".at\")\n",
    "# param_2 = obj.search(\".at\")\n",
    "\n",
    "print(param_2)"
   ]
  },
  {
   "cell_type": "code",
   "execution_count": null,
   "metadata": {},
   "outputs": [],
   "source": []
  },
  {
   "cell_type": "code",
   "execution_count": 126,
   "metadata": {},
   "outputs": [
    {
     "name": "stdout",
     "output_type": "stream",
     "text": [
      "['bad', 'dad', 'mad', 'bat']\n",
      ". b\n",
      "a a\n",
      "t d\n",
      "breaking\n",
      ". d\n",
      "a a\n",
      "t d\n",
      "breaking\n",
      ". m\n",
      "a a\n",
      "t d\n",
      "breaking\n",
      ". b\n",
      "a a\n",
      "t t\n",
      "True\n"
     ]
    }
   ],
   "source": [
    "obj.addWord(\"bat\")\n",
    "print(obj.data)\n",
    "param_2 = obj.search(\".at\")\n",
    "print(param_2)"
   ]
  },
  {
   "cell_type": "code",
   "execution_count": null,
   "metadata": {},
   "outputs": [],
   "source": [
    "[\"addWord\",\"addWord\",\"addWord\",\"addWord\",\"search\",\"search\",\"addWord\",\"search\",\"search\",\"search\",\"search\",\"search\",\"search\"]\n",
    "[[\"at\"],   [\"and\"],   [\"an\"],   [\"add\"],  [\"a\"],  [\".at\"], [\"bat\"],  [\".at\"],  [\"an.\"],[\"a.d.\"],  [\"b.\"], [\"a.d\"],  [\".\"]]\n",
    "[null,null,null,null,                      false,   false,null,        true,     true,   false,false,true,false]"
   ]
  }
 ],
 "metadata": {
  "kernelspec": {
   "display_name": "Python 3",
   "language": "python",
   "name": "python3"
  },
  "language_info": {
   "codemirror_mode": {
    "name": "ipython",
    "version": 3
   },
   "file_extension": ".py",
   "mimetype": "text/x-python",
   "name": "python",
   "nbconvert_exporter": "python",
   "pygments_lexer": "ipython3",
   "version": "3.6.5"
  }
 },
 "nbformat": 4,
 "nbformat_minor": 2
}
