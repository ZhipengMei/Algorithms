{
 "cells": [
  {
   "cell_type": "code",
   "execution_count": 5,
   "metadata": {},
   "outputs": [
    {
     "data": {
      "text/plain": [
       "'c'"
      ]
     },
     "execution_count": 5,
     "metadata": {},
     "output_type": "execute_result"
    }
   ],
   "source": [
    "s = \"abacabad\"\n",
    "\n",
    "def firstNotRepeatingCharacter(s):\n",
    "    d = {}\n",
    "    for i,v in enumerate(s):\n",
    "        if v in d.keys():\n",
    "            d[v] = -1\n",
    "        else:\n",
    "            d[v] = i\n",
    "            \n",
    "    min_key = len(s) + 1\n",
    "    result = []\n",
    "    for j in d.keys():\n",
    "        if d[j] >= 0:\n",
    "            min_key = min(min_key, d[j])\n",
    "            result = s[min_key]\n",
    "            \n",
    "    return result\n",
    "            \n",
    "    \n",
    "    \n",
    "\n",
    "    \n",
    "firstNotRepeatingCharacter(s)   "
   ]
  },
  {
   "cell_type": "code",
   "execution_count": 43,
   "metadata": {},
   "outputs": [
    {
     "data": {
      "text/plain": [
       "'c'"
      ]
     },
     "execution_count": 43,
     "metadata": {},
     "output_type": "execute_result"
    }
   ],
   "source": [
    "from collections import OrderedDict\n",
    "\n",
    "def firstNotRepeatingCharacter(s):\n",
    "    counts = OrderedDict()\n",
    "    for c in s:\n",
    "        counts[c] = counts.get(c,0) + 1    \n",
    "    \n",
    "    for c, n in counts.items():\n",
    "        if n == 1: return c\n",
    "    return '_'\n",
    "\n",
    "s = \"abacabad\"\n",
    "firstNotRepeatingCharacter(s)   "
   ]
  },
  {
   "cell_type": "code",
   "execution_count": 1,
   "metadata": {},
   "outputs": [
    {
     "data": {
      "text/plain": [
       "'c'"
      ]
     },
     "execution_count": 1,
     "metadata": {},
     "output_type": "execute_result"
    }
   ],
   "source": [
    "def firstNotRepeatingCharacter(s):\n",
    "    for v in s:\n",
    "        if s.index(v) == s.rindex(v):\n",
    "            return v\n",
    "    return '_'\n",
    "\n",
    "s = \"abacbad\"\n",
    "firstNotRepeatingCharacter(s) "
   ]
  },
  {
   "cell_type": "code",
   "execution_count": null,
   "metadata": {},
   "outputs": [],
   "source": []
  },
  {
   "cell_type": "code",
   "execution_count": null,
   "metadata": {},
   "outputs": [],
   "source": []
  }
 ],
 "metadata": {
  "kernelspec": {
   "display_name": "Python 3",
   "language": "python",
   "name": "python3"
  },
  "language_info": {
   "codemirror_mode": {
    "name": "ipython",
    "version": 3
   },
   "file_extension": ".py",
   "mimetype": "text/x-python",
   "name": "python",
   "nbconvert_exporter": "python",
   "pygments_lexer": "ipython3",
   "version": "3.6.5"
  }
 },
 "nbformat": 4,
 "nbformat_minor": 2
}
