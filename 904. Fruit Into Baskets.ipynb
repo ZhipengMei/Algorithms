{
 "cells": [
  {
   "cell_type": "markdown",
   "metadata": {},
   "source": [
    "https://leetcode.com/problems/fruit-into-baskets/description/"
   ]
  },
  {
   "cell_type": "code",
   "execution_count": 4,
   "metadata": {},
   "outputs": [],
   "source": [
    "from collections import Counter"
   ]
  },
  {
   "cell_type": "code",
   "execution_count": 9,
   "metadata": {},
   "outputs": [
    {
     "data": {
      "text/plain": [
       "5"
      ]
     },
     "execution_count": 9,
     "metadata": {},
     "output_type": "execute_result"
    }
   ],
   "source": [
    "def fruit(tree):\n",
    "    l, res, hm = 0, 0, Counter()\n",
    "    for r in range(len(tree)):\n",
    "        hm[tree[r]] += 1\n",
    "        \n",
    "        while len(hm) > 2:\n",
    "            hm[tree[l]] -= 1\n",
    "            if not hm[tree[l]]:\n",
    "                hm.pop(tree[l])\n",
    "            l += 1\n",
    "            \n",
    "        res = max(res, r-l+1)\n",
    "    return res\n",
    "    \n",
    "tree = [1,2,1,2,3,3,3,3]\n",
    "fruit(tree)"
   ]
  },
  {
   "cell_type": "code",
   "execution_count": null,
   "metadata": {},
   "outputs": [],
   "source": []
  },
  {
   "cell_type": "code",
   "execution_count": null,
   "metadata": {},
   "outputs": [],
   "source": []
  },
  {
   "cell_type": "code",
   "execution_count": null,
   "metadata": {},
   "outputs": [],
   "source": []
  }
 ],
 "metadata": {
  "kernelspec": {
   "display_name": "Python 3",
   "language": "python",
   "name": "python3"
  },
  "language_info": {
   "codemirror_mode": {
    "name": "ipython",
    "version": 3
   },
   "file_extension": ".py",
   "mimetype": "text/x-python",
   "name": "python",
   "nbconvert_exporter": "python",
   "pygments_lexer": "ipython3",
   "version": "3.7.0"
  }
 },
 "nbformat": 4,
 "nbformat_minor": 2
}
