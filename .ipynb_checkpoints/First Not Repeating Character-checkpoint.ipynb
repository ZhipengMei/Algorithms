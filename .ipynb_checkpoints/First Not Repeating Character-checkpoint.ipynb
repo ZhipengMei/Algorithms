{
 "cells": [
  {
   "cell_type": "markdown",
   "metadata": {},
   "source": [
    "#### Description\n",
    "\n",
    "Given a string `s`, find and return the first instance of a non-repeating character in it. If there is no such character, return '_'.\n",
    "\n",
    "#### Examples\n",
    "\n",
    "For `s = \"abacabad\"`, the output should be `firstNotRepeatingCharacter(s) = 'c'`.\n",
    "\n",
    "There are 2 non-repeating characters in the string: 'c' and 'd'. Return c since it appears in the string first.\n",
    "\n",
    "For `s = \"abacabaabacaba\"`, the output should be `firstNotRepeatingCharacter(s) = '_'`.\n",
    "\n",
    "There are no characters in this string that do not repeat.\n",
    "\n",
    "### Input/Output\n",
    "\n",
    "[input] string s\n",
    "\n",
    "A string that contains only lowercase English letters.\n",
    "\n",
    "Guaranteed constraints: 1 ≤ s.length ≤ 105.\n",
    "\n",
    "[output] char\n",
    "\n",
    "The first non-repeating character in s, or '_' if there are no characters that do not repeat."
   ]
  },
  {
   "cell_type": "markdown",
   "metadata": {},
   "source": [
    "## Method 1"
   ]
  },
  {
   "cell_type": "code",
   "execution_count": 20,
   "metadata": {},
   "outputs": [],
   "source": [
    "def firstNotRepeatingCharacter(s):\n",
    "    d = {}\n",
    "    for i,v in enumerate(s):\n",
    "        if v in d.keys():\n",
    "            d[v] = -1    # mark repeated char with -1\n",
    "        else:\n",
    "            d[v] = i\n",
    "\n",
    "    min_key = len(s) + 1\n",
    "    result = '_'\n",
    "    for j in d.keys():\n",
    "        if d[j] >= 0:    # find all non-repeated chars\n",
    "            min_key = min(min_key, d[j])\n",
    "            result = s[min_key]\n",
    "            \n",
    "    return result\n",
    "     \n",
    "s = \"abacabad\"\n",
    "assert firstNotRepeatingCharacter(s) == 'c'"
   ]
  },
  {
   "cell_type": "markdown",
   "metadata": {},
   "source": [
    "## Method 2"
   ]
  },
  {
   "cell_type": "code",
   "execution_count": 21,
   "metadata": {},
   "outputs": [
    {
     "data": {
      "text/plain": [
       "'c'"
      ]
     },
     "execution_count": 21,
     "metadata": {},
     "output_type": "execute_result"
    }
   ],
   "source": [
    "from collections import OrderedDict\n",
    "\n",
    "def firstNotRepeatingCharacter(s):\n",
    "    counts = OrderedDict()\n",
    "    for c in s:\n",
    "        counts[c] = counts.get(c,0) + 1 # count each char's appearance\n",
    "\n",
    "    for c, n in counts.items():\n",
    "        if n == 1:    # char with one appearance is non-repeated\n",
    "            return c     \n",
    "    return '_'\n",
    "\n",
    "s = \"abacabad\"\n",
    "firstNotRepeatingCharacter(s)   "
   ]
  },
  {
   "cell_type": "markdown",
   "metadata": {},
   "source": [
    "## Method 3"
   ]
  },
  {
   "cell_type": "code",
   "execution_count": 22,
   "metadata": {},
   "outputs": [
    {
     "data": {
      "text/plain": [
       "'c'"
      ]
     },
     "execution_count": 22,
     "metadata": {},
     "output_type": "execute_result"
    }
   ],
   "source": [
    "def firstNotRepeatingCharacter(s):\n",
    "    for v in s:\n",
    "        if s.index(v) == s.rindex(v):\n",
    "            return v\n",
    "    return '_'\n",
    "\n",
    "s = \"abacbad\"\n",
    "firstNotRepeatingCharacter(s) "
   ]
  },
  {
   "cell_type": "code",
   "execution_count": null,
   "metadata": {},
   "outputs": [],
   "source": []
  },
  {
   "cell_type": "code",
   "execution_count": null,
   "metadata": {},
   "outputs": [],
   "source": []
  }
 ],
 "metadata": {
  "kernelspec": {
   "display_name": "Python 3",
   "language": "python",
   "name": "python3"
  },
  "language_info": {
   "codemirror_mode": {
    "name": "ipython",
    "version": 3
   },
   "file_extension": ".py",
   "mimetype": "text/x-python",
   "name": "python",
   "nbconvert_exporter": "python",
   "pygments_lexer": "ipython3",
   "version": "3.7.0"
  }
 },
 "nbformat": 4,
 "nbformat_minor": 2
}
