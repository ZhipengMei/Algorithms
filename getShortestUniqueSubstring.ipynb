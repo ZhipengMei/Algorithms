{
 "cells": [
  {
   "cell_type": "markdown",
   "metadata": {},
   "source": [
    "# Smallest Substring of All Characters\n",
    "\n",
    "Given an array of unique characters arr and a string str, Implement a function getShortestUniqueSubstring that finds the smallest substring of str containing all the characters in arr. Return \"\" (empty string) if such a substring doesn’t exist.\n",
    "\n",
    "Come up with an asymptotically optimal solution and analyze the time and space complexities."
   ]
  },
  {
   "cell_type": "markdown",
   "metadata": {},
   "source": [
    "```\n",
    "input:  arr = ['x','y','z'], str = \"xyyzyzyx\"\n",
    "\n",
    "output: \"zyx\"\n",
    "```"
   ]
  },
  {
   "cell_type": "code",
   "execution_count": 23,
   "metadata": {},
   "outputs": [
    {
     "data": {
      "text/plain": [
       "'zyx'"
      ]
     },
     "execution_count": 23,
     "metadata": {},
     "output_type": "execute_result"
    }
   ],
   "source": [
    "from itertools import permutations \n",
    "\n",
    "# arr = ['x','y','z']\n",
    "# str = \"xyyzyzyx\"\n",
    "arr = [\"A\",\"B\",\"C\"]\n",
    "str = \"ADOBECODEBANCDDD\"\n",
    "\n",
    "def getShortestUniqueSubstring(arr, str):\n",
    "    if len(arr) == 0:\n",
    "        return ''\n",
    "    \n",
    "    perm = permutations(arr) \n",
    "    for i in list(perm): \n",
    "        a = ''.join(i)\n",
    "        if a in str:\n",
    "            return a\n",
    "    return ''\n",
    "        \n",
    "getShortestUniqueSubstring(arr, str)"
   ]
  },
  {
   "cell_type": "code",
   "execution_count": 25,
   "metadata": {},
   "outputs": [
    {
     "ename": "SyntaxError",
     "evalue": "invalid syntax (<ipython-input-25-2d72d596e443>, line 6)",
     "output_type": "error",
     "traceback": [
      "\u001b[0;36m  File \u001b[0;32m\"<ipython-input-25-2d72d596e443>\"\u001b[0;36m, line \u001b[0;32m6\u001b[0m\n\u001b[0;31m    countMap = new Map()\u001b[0m\n\u001b[0m                     ^\u001b[0m\n\u001b[0;31mSyntaxError\u001b[0m\u001b[0;31m:\u001b[0m invalid syntax\n"
     ]
    }
   ],
   "source": [
    "\n",
    "def getShortestUniqueSubstring(arr, str):\n",
    "    headIndex = 0\n",
    "    result = \"\"\n",
    "    uniqueCounter = 0\n",
    "    countMap = new Map()\n",
    "\n",
    "    # initialize countMap\n",
    "    for i from 0 to arr.length - 1:\n",
    "        countMap.setValueOf(arr[i], 0)\n",
    "\n",
    "    # scan str\n",
    "    for tailIndex from 0 to str.length - 1:\n",
    "        # handle the new tail\n",
    "        tailChar = str.charAt(tailIndex)\n",
    "\n",
    "        # skip all the characters not in arr\n",
    "        if (countMap.keyExists(tailChar) == false):\n",
    "            continue\n",
    "\n",
    "        tailCount = countMap.getValueOf(tailChar)\n",
    "        if (tailCount == 0):\n",
    "            uniqueCounter = uniqueCounter + 1\n",
    "\n",
    "        countMap.setValueOf(tailChar, tailCount + 1)\n",
    "\n",
    "        # push head forward\n",
    "        while (uniqueCounter == arr.length):\n",
    "            tempLength = tailIndex - headIndex + 1\n",
    "            if (tempLength == arr.length):\n",
    "                # return a substring of str from\n",
    "                # headIndex to tailIndex (inclusive)\n",
    "                return str.substring(headIndex, tailIndex)\n",
    "\n",
    "            if (result == \"\" OR tempLength < result.length):\n",
    "                # return a substring of str from\n",
    "                # headIndex to tailIndex (inclusive)\n",
    "                result = str.substring(headIndex, tailIndex)\n",
    "\n",
    "            headChar = str.charAt(headIndex)\n",
    "\n",
    "            if (countMap.keyExists(headChar)):\n",
    "                headCount = countMap.getValueOf(headChar) - 1\n",
    "                if (headCount == 0):\n",
    "                    uniqueCounter = uniqueCounter - 1\n",
    "                countMap.setValueFor(headChar, headCount)\n",
    "\n",
    "            headIndex = headIndex + 1\n",
    "\n",
    "    return result"
   ]
  },
  {
   "cell_type": "code",
   "execution_count": 26,
   "metadata": {},
   "outputs": [
    {
     "ename": "SyntaxError",
     "evalue": "invalid syntax (<ipython-input-26-118666aaa327>, line 1)",
     "output_type": "error",
     "traceback": [
      "\u001b[0;36m  File \u001b[0;32m\"<ipython-input-26-118666aaa327>\"\u001b[0;36m, line \u001b[0;32m1\u001b[0m\n\u001b[0;31m    Time Complexity: we’re doing a linear iteration of both str and arr of lengths N and M respectively, so the runtime complexity is linear in the size of the input, i.e. O(N+M).\u001b[0m\n\u001b[0m                  ^\u001b[0m\n\u001b[0;31mSyntaxError\u001b[0m\u001b[0;31m:\u001b[0m invalid syntax\n"
     ]
    }
   ],
   "source": [
    "Time Complexity: we’re doing a linear iteration of both str and arr of lengths N and M respectively, so the runtime complexity is linear in the size of the input, i.e. O(N+M).\n",
    "\n",
    "Space Complexity: we’re using a Map/Hash Table countMap with M key/values pairs plus few constant size counters, which together give us an O(M) space complexity (linear in the size of arr)."
   ]
  },
  {
   "cell_type": "code",
   "execution_count": 1,
   "metadata": {},
   "outputs": [],
   "source": [
    "# https://codereview.stackexchange.com/questions/132227/minimum-window-substring\n",
    "    \n",
    "from collections import Counter\n",
    "\n",
    "def min_window(source, pattern):\n",
    "    \"\"\"Return the shortest substring of source that contains all the\n",
    "    characters in pattern (with the required multiplicity). Raise\n",
    "    ValueError if there is no such substring.\n",
    "\n",
    "    \"\"\"\n",
    "    def windows():\n",
    "        pattern_length = len(pattern)\n",
    "        target = Counter(pattern) # character -> required count\n",
    "        current = Counter()       # character -> count in current window\n",
    "        matched = 0               # matched characters in current window\n",
    "        window_start, window_end = enumerate(source), enumerate(source)\n",
    "        for end, c in window_end:\n",
    "            current[c] += 1\n",
    "            if current[c] <= target[c]:\n",
    "                matched += 1\n",
    "                if matched == pattern_length:\n",
    "                    for start, c in window_start:\n",
    "                        current[c] -= 1\n",
    "                        if current[c] < target[c]:\n",
    "                            matched -= 1\n",
    "                            if matched < pattern_length:\n",
    "                                yield end + 1 - start, start\n",
    "                                break\n",
    "    length, start = min(windows())\n",
    "    return source[start: start + length]"
   ]
  },
  {
   "cell_type": "code",
   "execution_count": 2,
   "metadata": {},
   "outputs": [
    {
     "data": {
      "text/plain": [
       "'BANC'"
      ]
     },
     "execution_count": 2,
     "metadata": {},
     "output_type": "execute_result"
    }
   ],
   "source": [
    "S = \"ADOBECODEBANC\" \n",
    "T = \"ABC\"\n",
    "min_window(S,T)"
   ]
  },
  {
   "cell_type": "code",
   "execution_count": null,
   "metadata": {},
   "outputs": [],
   "source": []
  }
 ],
 "metadata": {
  "kernelspec": {
   "display_name": "Python 3",
   "language": "python",
   "name": "python3"
  },
  "language_info": {
   "codemirror_mode": {
    "name": "ipython",
    "version": 3
   },
   "file_extension": ".py",
   "mimetype": "text/x-python",
   "name": "python",
   "nbconvert_exporter": "python",
   "pygments_lexer": "ipython3",
   "version": "3.6.5"
  }
 },
 "nbformat": 4,
 "nbformat_minor": 2
}
